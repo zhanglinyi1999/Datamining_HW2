{
 "cells": [
  {
   "cell_type": "code",
   "execution_count": 49,
   "metadata": {},
   "outputs": [],
   "source": [
    "import pandas as pd\n",
    "import numpy as np\n",
    "import seaborn as sns\n",
    "import matplotlib.pyplot as plt\n",
    "import os\n",
    "import time\n",
    "from tqdm import tqdm"
   ]
  },
  {
   "cell_type": "code",
   "execution_count": 44,
   "metadata": {},
   "outputs": [
    {
     "data": {
      "text/plain": [
       "'d:\\\\Study\\\\KTH\\\\DM\\\\assignment\\\\Datamining_HW2\\\\data\\\\T10I4D100K.dat'"
      ]
     },
     "execution_count": 44,
     "metadata": {},
     "output_type": "execute_result"
    }
   ],
   "source": [
    "path = os.path.dirname(os.getcwd())\n",
    "data_path = os.path.join(path, 'data', 'T10I4D100K.dat')\n",
    "data_path"
   ]
  },
  {
   "cell_type": "code",
   "execution_count": 45,
   "metadata": {},
   "outputs": [],
   "source": [
    "def read_dataset(\n",
    "        file: str\n",
    ") -> list[set[int]]:\n",
    "    \"\"\"\n",
    "    This function reads from a file .dat assuming that on every row of the file there is a basket of items and returns\n",
    "    the list of the baskets.\n",
    "\n",
    "    :param file: the path to the input file\n",
    "    :return: the list of baskets\n",
    "    \"\"\"\n",
    "\n",
    "    with open(file, \"r\") as f:\n",
    "        baskets: list[set[int]] = list(\n",
    "            map(\n",
    "                lambda basket: set([int(item_id) for item_id in basket.split()]),\n",
    "                f.read().splitlines()\n",
    "            )\n",
    "        )\n",
    "    f.close()\n",
    "\n",
    "    return baskets"
   ]
  },
  {
   "cell_type": "code",
   "execution_count": 50,
   "metadata": {},
   "outputs": [
    {
     "name": "stdout",
     "output_type": "stream",
     "text": [
      "{704, 834, 581, 39, 205, 814, 401, 120, 825, 124}\n"
     ]
    }
   ],
   "source": [
    "baskets = read_dataset(file=data_path)\n",
    "print(baskets[1])"
   ]
  },
  {
   "cell_type": "code",
   "execution_count": 51,
   "metadata": {},
   "outputs": [
    {
     "name": "stdout",
     "output_type": "stream",
     "text": [
      "870\n",
      "375\n"
     ]
    }
   ],
   "source": [
    "C1_raw=dict()\n",
    "support_thre=len(baskets)*0.01\n",
    "for basket in baskets:\n",
    "    for item in basket:\n",
    "        if item in C1_raw.keys():\n",
    "            C1_raw[item]+=1\n",
    "        else:\n",
    "            C1_raw[item]=1\n",
    "print(len(C1_raw))\n",
    "\n",
    "C1=set()\n",
    "for k,v in C1_raw.items():\n",
    "    if v>=support_thre:\n",
    "        C1.add(k)\n",
    "del C1_raw\n",
    "print(len(C1))"
   ]
  },
  {
   "cell_type": "code",
   "execution_count": 52,
   "metadata": {},
   "outputs": [
    {
     "name": "stdout",
     "output_type": "stream",
     "text": [
      "70125\n"
     ]
    },
    {
     "name": "stderr",
     "output_type": "stream",
     "text": [
      " 34%|███▍      | 34337/100000 [20:30<39:12, 27.91it/s]\n"
     ]
    },
    {
     "ename": "KeyboardInterrupt",
     "evalue": "",
     "output_type": "error",
     "traceback": [
      "\u001b[1;31m---------------------------------------------------------------------------\u001b[0m",
      "\u001b[1;31mKeyboardInterrupt\u001b[0m                         Traceback (most recent call last)",
      "\u001b[1;32md:\\Study\\KTH\\DM\\assignment\\Datamining_HW2\\src\\lab2.ipynb Cell 6\u001b[0m line \u001b[0;36m1\n\u001b[0;32m      <a href='vscode-notebook-cell:/d%3A/Study/KTH/DM/assignment/Datamining_HW2/src/lab2.ipynb#W5sZmlsZQ%3D%3D?line=7'>8</a>\u001b[0m \u001b[39mfor\u001b[39;00m basket \u001b[39min\u001b[39;00m tqdm(baskets):\n\u001b[0;32m      <a href='vscode-notebook-cell:/d%3A/Study/KTH/DM/assignment/Datamining_HW2/src/lab2.ipynb#W5sZmlsZQ%3D%3D?line=8'>9</a>\u001b[0m     \u001b[39mfor\u001b[39;00m k \u001b[39min\u001b[39;00m C2_raw\u001b[39m.\u001b[39mkeys():\n\u001b[1;32m---> <a href='vscode-notebook-cell:/d%3A/Study/KTH/DM/assignment/Datamining_HW2/src/lab2.ipynb#W5sZmlsZQ%3D%3D?line=9'>10</a>\u001b[0m         \u001b[39mif\u001b[39;00m \u001b[39mset\u001b[39;49m(k) \u001b[39min\u001b[39;00m basket:\n\u001b[0;32m     <a href='vscode-notebook-cell:/d%3A/Study/KTH/DM/assignment/Datamining_HW2/src/lab2.ipynb#W5sZmlsZQ%3D%3D?line=10'>11</a>\u001b[0m             C2_raw[k]\u001b[39m+\u001b[39m\u001b[39m=\u001b[39m\u001b[39m1\u001b[39m\n\u001b[0;32m     <a href='vscode-notebook-cell:/d%3A/Study/KTH/DM/assignment/Datamining_HW2/src/lab2.ipynb#W5sZmlsZQ%3D%3D?line=11'>12</a>\u001b[0m C2\u001b[39m=\u001b[39m\u001b[39mset\u001b[39m()\n",
      "\u001b[1;31mKeyboardInterrupt\u001b[0m: "
     ]
    }
   ],
   "source": [
    "C2_raw=dict()\n",
    "for item1 in C1:\n",
    "    for item2 in C1:\n",
    "        if(item1==item2):\n",
    "            break\n",
    "        C2_raw[tuple({item1} | {item2})]=0\n",
    "print(len(C2_raw))\n",
    "for basket in tqdm(baskets):\n",
    "    for k in C2_raw.keys():\n",
    "        if set(k) in basket:\n",
    "            C2_raw[k]+=1\n",
    "C2=set()\n",
    "for k,v in C2_raw.items():\n",
    "    if v>=support_thre:\n",
    "        C2.add(set(k))\n",
    "del C2_raw\n",
    "print(len(C2))\n",
    "print(C2)"
   ]
  },
  {
   "cell_type": "code",
   "execution_count": null,
   "metadata": {},
   "outputs": [
    {
     "ename": "TypeError",
     "evalue": "'int' object is not iterable",
     "output_type": "error",
     "traceback": [
      "\u001b[1;31m---------------------------------------------------------------------------\u001b[0m",
      "\u001b[1;31mTypeError\u001b[0m                                 Traceback (most recent call last)",
      "\u001b[1;32md:\\Study\\KTH\\DM\\assignment\\Datamining_HW2\\src\\lab2.ipynb Cell 7\u001b[0m line \u001b[0;36m5\n\u001b[0;32m      <a href='vscode-notebook-cell:/d%3A/Study/KTH/DM/assignment/Datamining_HW2/src/lab2.ipynb#W6sZmlsZQ%3D%3D?line=2'>3</a>\u001b[0m \u001b[39mfor\u001b[39;00m item2 \u001b[39min\u001b[39;00m C2:\n\u001b[0;32m      <a href='vscode-notebook-cell:/d%3A/Study/KTH/DM/assignment/Datamining_HW2/src/lab2.ipynb#W6sZmlsZQ%3D%3D?line=3'>4</a>\u001b[0m     flag\u001b[39m=\u001b[39m\u001b[39mTrue\u001b[39;00m\n\u001b[1;32m----> <a href='vscode-notebook-cell:/d%3A/Study/KTH/DM/assignment/Datamining_HW2/src/lab2.ipynb#W6sZmlsZQ%3D%3D?line=4'>5</a>\u001b[0m     \u001b[39mfor\u001b[39;00m t \u001b[39min\u001b[39;00m item2:\n\u001b[0;32m      <a href='vscode-notebook-cell:/d%3A/Study/KTH/DM/assignment/Datamining_HW2/src/lab2.ipynb#W6sZmlsZQ%3D%3D?line=5'>6</a>\u001b[0m         \u001b[39mif\u001b[39;00m {t}\u001b[39m|\u001b[39mitem1 \u001b[39mnot\u001b[39;00m \u001b[39min\u001b[39;00m C2:\n\u001b[0;32m      <a href='vscode-notebook-cell:/d%3A/Study/KTH/DM/assignment/Datamining_HW2/src/lab2.ipynb#W6sZmlsZQ%3D%3D?line=6'>7</a>\u001b[0m             flag\u001b[39m=\u001b[39m\u001b[39mFalse\u001b[39;00m\n",
      "\u001b[1;31mTypeError\u001b[0m: 'int' object is not iterable"
     ]
    }
   ],
   "source": [
    "C3_raw=dict()\n",
    "for item1 in C1:\n",
    "    for item2 in C2:\n",
    "        flag=True\n",
    "        for t in item2:\n",
    "            if {t}|item1 not in C2:\n",
    "                flag=False\n",
    "                break\n",
    "        if not flag:\n",
    "            continue\n",
    "        C3_raw[item1|item2]=0\n",
    "print(len(C3_raw))\n",
    "for basket in baskets:\n",
    "    for k in C3_raw.keys():\n",
    "        if k in basket:\n",
    "            C3_raw[k]+=1\n",
    "C3=set()\n",
    "for k,v in C3_raw.items():\n",
    "    if v>=support_thre:\n",
    "        C3.add(k)\n",
    "del C3_raw\n",
    "print(len(C3))"
   ]
  }
 ],
 "metadata": {
  "kernelspec": {
   "display_name": "Python 3",
   "language": "python",
   "name": "python3"
  },
  "language_info": {
   "codemirror_mode": {
    "name": "ipython",
    "version": 3
   },
   "file_extension": ".py",
   "mimetype": "text/x-python",
   "name": "python",
   "nbconvert_exporter": "python",
   "pygments_lexer": "ipython3",
   "version": "3.9.0"
  }
 },
 "nbformat": 4,
 "nbformat_minor": 2
}
