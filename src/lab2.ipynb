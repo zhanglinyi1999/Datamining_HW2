{
 "cells": [
  {
   "cell_type": "code",
   "execution_count": 1,
   "metadata": {},
   "outputs": [],
   "source": [
    "import pandas as pd\n",
    "import numpy as np\n",
    "import seaborn as sns\n",
    "import matplotlib.pyplot as plt\n",
    "import os\n",
    "import time\n",
    "from collections import defaultdict\n",
    "from tqdm import tqdm\n",
    "from collections import Counter\n",
    "from itertools import combinations"
   ]
  },
  {
   "cell_type": "code",
   "execution_count": 2,
   "metadata": {},
   "outputs": [
    {
     "data": {
      "text/plain": [
       "'d:\\\\Study\\\\KTH\\\\DM\\\\assignment\\\\Datamining_HW2\\\\data\\\\T10I4D100K.dat'"
      ]
     },
     "execution_count": 2,
     "metadata": {},
     "output_type": "execute_result"
    }
   ],
   "source": [
    "path = os.path.dirname(os.getcwd())\n",
    "data_path = os.path.join(path, 'data', 'T10I4D100K.dat')\n",
    "data_path"
   ]
  },
  {
   "cell_type": "code",
   "execution_count": 3,
   "metadata": {},
   "outputs": [],
   "source": [
    "def read_dataset(\n",
    "        file: str\n",
    ") -> list[set[int]]:\n",
    "    \"\"\"\n",
    "    This function reads from a file .dat assuming that on every row of the file there is a basket of items and returns\n",
    "    the list of the baskets.\n",
    "\n",
    "    :param file: the path to the input file\n",
    "    :return: the list of baskets\n",
    "    \"\"\"\n",
    "\n",
    "    with open(file, \"r\") as f:\n",
    "        baskets: list[set[int]] = list(\n",
    "            map(\n",
    "                lambda basket: {int(item_id) for item_id in basket.split()},\n",
    "                f.read().splitlines()\n",
    "            )\n",
    "        )\n",
    "    f.close()\n",
    "\n",
    "    return baskets"
   ]
  },
  {
   "cell_type": "code",
   "execution_count": 4,
   "metadata": {},
   "outputs": [
    {
     "name": "stdout",
     "output_type": "stream",
     "text": [
      "{448, 834, 164, 775, 328, 687, 240, 368, 274, 561, 52, 630, 825, 25, 538, 730}\n"
     ]
    }
   ],
   "source": [
    "baskets = read_dataset(file=data_path)\n",
    "print(baskets[0])"
   ]
  },
  {
   "cell_type": "code",
   "execution_count": 5,
   "metadata": {},
   "outputs": [
    {
     "name": "stdout",
     "output_type": "stream",
     "text": [
      "{448, 834, 164, 775, 328, 687, 240, 368, 274, 561, 52, 630, 825, 25, 538, 730}\n",
      "448\n"
     ]
    }
   ],
   "source": [
    "for basket in baskets:\n",
    "    print(basket)\n",
    "    for item in basket:\n",
    "        print(item)\n",
    "        break\n",
    "    break"
   ]
  },
  {
   "cell_type": "markdown",
   "metadata": {},
   "source": [
    "Singleton"
   ]
  },
  {
   "cell_type": "code",
   "execution_count": 6,
   "metadata": {},
   "outputs": [],
   "source": [
    "def find_frequent_singletons(baskets, s=1, show=False):\n",
    "    item_to_support = defaultdict(int)\n",
    "\n",
    "    for basket in baskets:\n",
    "        for item in basket:\n",
    "            item_to_support[frozenset([item])] += 1\n",
    "\n",
    "    if show:\n",
    "        print(f'Data contains {len(item_to_support)} different items.')\n",
    "        # support_values = list(item_to_support.values())\n",
    "        # print(f'The average support is {sum(support_values) / len(support_values):.2f}')\n",
    "\n",
    "    return {k: v for k, v in item_to_support.items() if v > s}\n"
   ]
  },
  {
   "cell_type": "code",
   "execution_count": 7,
   "metadata": {},
   "outputs": [
    {
     "name": "stdout",
     "output_type": "stream",
     "text": [
      "Data contains 870 different items.\n",
      "The most frequent singletons have been calculated. 375 singletons was/were found.\n"
     ]
    }
   ],
   "source": [
    "s = 1000\n",
    "\n",
    "\n",
    "frequent_item_sets = find_frequent_singletons( baskets=baskets, s = s, show = True)\n",
    "\n",
    "\n",
    "print(f'The most frequent singletons have been calculated. {len(frequent_item_sets)} singletons was/were found.')"
   ]
  },
  {
   "cell_type": "code",
   "execution_count": 8,
   "metadata": {},
   "outputs": [],
   "source": [
    "import itertools\n",
    "def generate_candidates(precedent_item_sets,item_set_length,baskets):\n",
    "    L1=set()\n",
    "    ret=set()\n",
    "    for item in precedent_item_sets:\n",
    "        for val in item:\n",
    "            L1.add(val)\n",
    "    for basket in baskets:\n",
    "        intersection=list(L1 & basket)\n",
    "        candidates=list(itertools.combinations(intersection,item_set_length))\n",
    "        for cand in candidates:\n",
    "            prev_cand=itertools.combinations(list(cand),item_set_length-1)\n",
    "            flag=True\n",
    "            for prev_c in prev_cand:\n",
    "                if frozenset(prev_c) not in precedent_item_sets:\n",
    "                    flag=False\n",
    "                    break\n",
    "            if not flag:\n",
    "                continue\n",
    "            ret.add(frozenset(cand))\n",
    "    return ret\n",
    "            \n",
    "\n",
    "    "
   ]
  },
  {
   "cell_type": "code",
   "execution_count": 9,
   "metadata": {},
   "outputs": [],
   "source": [
    "def generate_candidate(precedent_item_sets, item_set_length):\n",
    "    return {\n",
    "        item1 | item2\n",
    "        for item1 in precedent_item_sets\n",
    "        for item2 in precedent_item_sets\n",
    "        if len(item1 | item2) == item_set_length\n",
    "    }\n"
   ]
  },
  {
   "cell_type": "code",
   "execution_count": 10,
   "metadata": {},
   "outputs": [],
   "source": [
    "def filter(baskets, candidate_item_sets, item_set_length, s=1, show = False):\n",
    "    item_set_to_support = Counter(\n",
    "        frozenset(item_set)\n",
    "        for basket in baskets\n",
    "        for item_set in combinations(basket, item_set_length)\n",
    "        if frozenset(item_set) in candidate_item_sets\n",
    "    )\n",
    "    # print(\"item_set_to_support\", list(item_set_to_support)[0])\n",
    "    if show:\n",
    "        print(\"length\", item_set_length)\n",
    "        # print(f'The market contains {len(item_set_to_support)} different items.')\n",
    "\n",
    "\n",
    "    return {k: v for k, v in item_set_to_support.items() if v > s}\n"
   ]
  },
  {
   "cell_type": "code",
   "execution_count": 11,
   "metadata": {},
   "outputs": [
    {
     "name": "stdout",
     "output_type": "stream",
     "text": [
      "dict_keys([frozenset({448}), frozenset({834}), frozenset({775}), frozenset({687}), frozenset({240}), frozenset({368}), frozenset({274}), frozenset({561}), frozenset({52}), frozenset({630}), frozenset({825}), frozenset({25}), frozenset({538}), frozenset({704}), frozenset({581}), frozenset({39}), frozenset({205}), frozenset({814}), frozenset({401}), frozenset({120}), frozenset({674}), frozenset({35}), frozenset({854}), frozenset({950}), frozenset({733}), frozenset({449}), frozenset({964}), frozenset({422}), frozenset({937}), frozenset({857}), frozenset({895}), frozenset({738}), frozenset({708}), frozenset({229}), frozenset({294}), frozenset({966}), frozenset({978}), frozenset({883}), frozenset({853}), frozenset({283}), frozenset({381}), frozenset({766}), frozenset({104}), frozenset({620}), frozenset({143}), frozenset({569}), frozenset({798}), frozenset({809}), frozenset({682}), frozenset({970}), frozenset({782}), frozenset({529}), frozenset({658}), frozenset({947}), frozenset({214}), frozenset({185}), frozenset({350}), frozenset({227}), frozenset({390}), frozenset({530}), frozenset({914}), frozenset({279}), frozenset({280}), frozenset({675}), frozenset({932}), frozenset({192}), frozenset({71}), frozenset({208}), frozenset({720}), frozenset({597}), frozenset({618}), frozenset({496}), frozenset({706}), frozenset({653}), frozenset({878}), frozenset({276}), frozenset({183}), frozenset({217}), frozenset({795}), frozenset({161}), frozenset({960}), frozenset({424}), frozenset({490}), frozenset({910}), frozenset({175}), frozenset({623}), frozenset({177}), frozenset({571}), frozenset({130}), frozenset({125}), frozenset({392}), frozenset({461}), frozenset({862}), frozenset({900}), frozenset({78}), frozenset({921}), frozenset({27}), frozenset({579}), frozenset({803}), frozenset({778}), frozenset({147}), frozenset({411}), frozenset({572}), frozenset({290}), frozenset({614}), frozenset({266}), frozenset({458}), frozenset({523}), frozenset({944}), frozenset({888}), frozenset({480}), frozenset({513}), frozenset({70}), frozenset({874}), frozenset({43}), frozenset({204}), frozenset({334}), frozenset({151}), frozenset({504}), frozenset({890}), frozenset({419}), frozenset({73}), frozenset({810}), frozenset({844}), frozenset({846}), frozenset({722}), frozenset({469}), frozenset({310}), frozenset({918}), frozenset({967}), frozenset({326}), frozenset({774}), frozenset({526}), frozenset({975}), frozenset({403}), frozenset({788}), frozenset({789}), frozenset({198}), frozenset({201}), frozenset({116}), frozenset({805}), frozenset({701}), frozenset({171}), frozenset({946}), frozenset({541}), frozenset({678}), frozenset({487}), frozenset({631}), frozenset({935}), frozenset({780}), frozenset({471}), frozenset({638}), frozenset({735}), frozenset({17}), frozenset({242}), frozenset({758}), frozenset({763}), frozenset({956}), frozenset({385}), frozenset({676}), frozenset({145}), frozenset({885}), frozenset({790}), frozenset({792}), frozenset({617}), frozenset({522}), frozenset({859}), frozenset({354}), frozenset({548}), frozenset({740}), frozenset({296}), frozenset({841}), frozenset({12}), frozenset({684}), frozenset({605}), frozenset({829}), frozenset({210}), frozenset({884}), frozenset({346}), frozenset({477}), frozenset({649}), frozenset({234}), frozenset({460}), frozenset({746}), frozenset({600}), frozenset({28}), frozenset({157}), frozenset({736}), frozenset({5}), frozenset({517}), frozenset({744}), frozenset({115}), frozenset({919}), frozenset({641}), frozenset({673}), frozenset({196}), frozenset({489}), frozenset({494}), frozenset({362}), frozenset({591}), frozenset({651}), frozenset({628}), frozenset({181}), frozenset({472}), frozenset({58}), frozenset({573}), frozenset({31}), frozenset({832}), frozenset({580}), frozenset({168}), frozenset({871}), frozenset({111}), frozenset({632}), frozenset({154}), frozenset({988}), frozenset({72}), frozenset({981}), frozenset({10}), frozenset({132}), frozenset({32}), frozenset({239}), frozenset({21}), frozenset({54}), frozenset({348}), frozenset({100}), frozenset({500}), frozenset({48}), frozenset({639}), frozenset({765}), frozenset({126}), frozenset({319}), frozenset({521}), frozenset({387}), frozenset({140}), frozenset({112}), frozenset({594}), frozenset({285}), frozenset({511}), frozenset({583}), frozenset({93}), frozenset({606}), frozenset({236}), frozenset({952}), frozenset({941}), frozenset({593}), frozenset({90}), frozenset({122}), frozenset({718}), frozenset({1}), frozenset({516}), frozenset({423}), frozenset({69}), frozenset({6}), frozenset({913}), frozenset({797}), frozenset({577}), frozenset({611}), frozenset({995}), frozenset({110}), frozenset({509}), frozenset({343}), frozenset({527}), frozenset({33}), frozenset({336}), frozenset({989}), frozenset({97}), frozenset({793}), frozenset({574}), frozenset({598}), frozenset({427}), frozenset({470}), frozenset({992}), frozenset({37}), frozenset({55}), frozenset({897}), frozenset({275}), frozenset({259}), frozenset({51}), frozenset({162}), frozenset({45}), frozenset({534}), frozenset({378}), frozenset({906}), frozenset({912}), frozenset({576}), frozenset({716}), frozenset({373}), frozenset({546}), frozenset({665}), frozenset({963}), frozenset({349}), frozenset({197}), frozenset({8}), frozenset({749}), frozenset({823}), frozenset({413}), frozenset({982}), frozenset({984}), frozenset({94}), frozenset({515}), frozenset({692}), frozenset({694}), frozenset({567}), frozenset({800}), frozenset({812}), frozenset({57}), frozenset({41}), frozenset({414}), frozenset({923}), frozenset({377}), frozenset({752}), frozenset({991}), frozenset({998}), frozenset({899}), frozenset({710}), frozenset({867}), frozenset({170}), frozenset({563}), frozenset({438}), frozenset({357}), frozenset({361}), frozenset({332}), frozenset({322}), frozenset({928}), frozenset({486}), frozenset({75}), frozenset({440}), frozenset({38}), frozenset({784}), frozenset({265}), frozenset({686}), frozenset({540}), frozenset({468}), frozenset({819}), frozenset({663}), frozenset({886}), frozenset({429}), frozenset({843}), frozenset({129}), frozenset({578}), frozenset({510}), frozenset({68}), frozenset({860}), frozenset({4}), frozenset({887}), frozenset({804}), frozenset({309}), frozenset({325}), frozenset({826}), frozenset({707}), frozenset({394}), frozenset({105}), frozenset({815}), frozenset({948}), frozenset({308}), frozenset({661}), frozenset({634}), frozenset({351}), frozenset({405}), frozenset({688}), frozenset({949}), frozenset({163}), frozenset({893}), frozenset({335}), frozenset({173}), frozenset({258}), frozenset({85}), frozenset({450}), frozenset({428}), frozenset({769}), frozenset({550}), frozenset({554}), frozenset({366}), frozenset({820}), frozenset({207})])\n",
      "length 2\n"
     ]
    }
   ],
   "source": [
    "precedent_frequent_item_sets = frequent_item_sets.keys()\n",
    "print(precedent_frequent_item_sets)\n",
    "item_set_length = 2\n",
    "print(\"length\", item_set_length)"
   ]
  },
  {
   "cell_type": "code",
   "execution_count": 12,
   "metadata": {},
   "outputs": [
    {
     "name": "stdout",
     "output_type": "stream",
     "text": [
      "70125 candidates generated!\n",
      "frozenset({413, 494})\n"
     ]
    }
   ],
   "source": [
    "candidate_item_sets = generate_candidates(\n",
    "            precedent_item_sets=precedent_frequent_item_sets,\n",
    "            item_set_length=item_set_length,\n",
    "            baskets=baskets\n",
    "        )\n",
    "print(\"{} candidates generated!\".format(len(candidate_item_sets)))\n",
    "print(list(candidate_item_sets)[0])"
   ]
  },
  {
   "cell_type": "code",
   "execution_count": 13,
   "metadata": {},
   "outputs": [
    {
     "name": "stdout",
     "output_type": "stream",
     "text": [
      "length 2\n",
      "The most frequent 2-item sets have been calculated. 9 2-item sets was/were found.\n"
     ]
    }
   ],
   "source": [
    "new_frequent_item_sets = filter(\n",
    "                baskets=baskets,\n",
    "                candidate_item_sets=candidate_item_sets,\n",
    "                item_set_length=item_set_length,\n",
    "                s=s,\n",
    "                show=True\n",
    "            )\n",
    "print(f'The most frequent {item_set_length}-item sets have been calculated. {len(new_frequent_item_sets)} {item_set_length}-item sets was/were found.')"
   ]
  },
  {
   "cell_type": "code",
   "execution_count": 14,
   "metadata": {},
   "outputs": [
    {
     "name": "stdout",
     "output_type": "stream",
     "text": [
      "dict_keys([frozenset({704, 39}), frozenset({704, 825}), frozenset({825, 39}), frozenset({227, 390}), frozenset({789, 829}), frozenset({368, 829}), frozenset({217, 346}), frozenset({368, 682}), frozenset({722, 390})])\n",
      "length 3\n"
     ]
    }
   ],
   "source": [
    "precedent_frequent_item_sets = new_frequent_item_sets.keys()\n",
    "print(precedent_frequent_item_sets)\n",
    "item_set_length = 3\n",
    "print(\"length\", item_set_length)"
   ]
  },
  {
   "cell_type": "code",
   "execution_count": 15,
   "metadata": {},
   "outputs": [
    {
     "name": "stdout",
     "output_type": "stream",
     "text": [
      "1 candidates generated!\n",
      "frozenset({704, 825, 39})\n"
     ]
    }
   ],
   "source": [
    "candidate_item_sets = generate_candidates(\n",
    "            precedent_item_sets=precedent_frequent_item_sets,\n",
    "            item_set_length=item_set_length,\n",
    "            baskets=baskets\n",
    "        )\n",
    "print(\"{} candidates generated!\".format(len(candidate_item_sets)))\n",
    "print(list(candidate_item_sets)[0])"
   ]
  },
  {
   "cell_type": "code",
   "execution_count": 16,
   "metadata": {},
   "outputs": [
    {
     "name": "stdout",
     "output_type": "stream",
     "text": [
      "length 3\n",
      "The most frequent 3-item sets have been calculated. 1 3-item sets was/were found.\n",
      "[frozenset({704, 825, 39})]\n"
     ]
    }
   ],
   "source": [
    "new_frequent_item_sets = filter(\n",
    "                baskets=baskets,\n",
    "                candidate_item_sets=candidate_item_sets,\n",
    "                item_set_length=item_set_length,\n",
    "                s=s,\n",
    "                show=True\n",
    "            )\n",
    "print(f'The most frequent {item_set_length}-item sets have been calculated. {len(new_frequent_item_sets)} {item_set_length}-item sets was/were found.')\n",
    "print(list(new_frequent_item_sets))"
   ]
  },
  {
   "cell_type": "code",
   "execution_count": 188,
   "metadata": {},
   "outputs": [
    {
     "name": "stdout",
     "output_type": "stream",
     "text": [
      "support_thre= 1000.0\n",
      "870\n",
      "375\n"
     ]
    }
   ],
   "source": [
    "C1_raw=dict()\n",
    "support_thre=len(baskets)*0.01\n",
    "print(\"support_thre=\", support_thre)\n",
    "\n",
    "for basket in baskets:\n",
    "    for item in basket:\n",
    "        if item in C1_raw.keys():\n",
    "            C1_raw[item]+=1\n",
    "        else:\n",
    "            C1_raw[item]=1\n",
    "print(len(C1_raw))\n",
    "\n",
    "C1=set()\n",
    "for k,v in C1_raw.items():\n",
    "    if v>=support_thre:\n",
    "        C1.add(k)\n",
    "del C1_raw\n",
    "print(len(C1))"
   ]
  },
  {
   "cell_type": "code",
   "execution_count": 198,
   "metadata": {},
   "outputs": [
    {
     "name": "stdout",
     "output_type": "stream",
     "text": [
      "70125\n"
     ]
    }
   ],
   "source": [
    "C2_raw=dict()\n",
    "for item1 in C1:\n",
    "    for item2 in C1:\n",
    "        if(item1==item2):\n",
    "            break\n",
    "        C2_raw[tuple({item1} | {item2})]=0\n",
    "print(len(C2_raw))\n",
    "# for basket in tqdm(baskets):\n",
    "#     print(\"basket=\",basket)\n",
    "#     for k in C2_raw.keys():\n",
    "#         print(\"k=\",k)\n",
    "#         if set(k) in basket:\n",
    "#             print(\"k=\",set(k))\n",
    "#             C2_raw[k]+=1\n",
    "#             break\n",
    "    \n",
    "\n",
    "# C2=set()\n",
    "# for k,v in C2_raw.items():\n",
    "#     if v>=support_thre:\n",
    "#         C2.add(set(k))\n",
    "# del C2_raw\n",
    "# print(len(C2))\n",
    "# print(C2)"
   ]
  },
  {
   "cell_type": "code",
   "execution_count": 190,
   "metadata": {},
   "outputs": [],
   "source": [
    "# C3_raw=dict()\n",
    "# for item1 in C1:\n",
    "#     for item2 in C2:\n",
    "#         flag=True\n",
    "#         for t in item2:\n",
    "#             if {t}|item1 not in C2:\n",
    "#                 flag=False\n",
    "#                 break\n",
    "#         if not flag:\n",
    "#             continue\n",
    "#         C3_raw[item1|item2]=0\n",
    "# print(len(C3_raw))\n",
    "# for basket in baskets:\n",
    "#     for k in C3_raw.keys():\n",
    "#         if k in basket:\n",
    "#             C3_raw[k]+=1\n",
    "# C3=set()\n",
    "# for k,v in C3_raw.items():\n",
    "#     if v>=support_thre:\n",
    "#         C3.add(k)\n",
    "# del C3_raw\n",
    "# print(len(C3))"
   ]
  }
 ],
 "metadata": {
  "kernelspec": {
   "display_name": "Python 3",
   "language": "python",
   "name": "python3"
  },
  "language_info": {
   "codemirror_mode": {
    "name": "ipython",
    "version": 3
   },
   "file_extension": ".py",
   "mimetype": "text/x-python",
   "name": "python",
   "nbconvert_exporter": "python",
   "pygments_lexer": "ipython3",
   "version": "3.9.0"
  }
 },
 "nbformat": 4,
 "nbformat_minor": 2
}
